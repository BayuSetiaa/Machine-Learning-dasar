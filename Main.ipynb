{
 "cells": [
  {
   "cell_type": "code",
   "execution_count": 1,
   "metadata": {},
   "outputs": [],
   "source": [
    "%matplotlib widget\n",
    "\n",
    "import numpy as np\n",
    "import matplotlib.pyplot as plt\n",
    "from matplotlib.animation import FuncAnimation "
   ]
  },
  {
   "cell_type": "markdown",
   "metadata": {},
   "source": [
    "# Generate Data"
   ]
  },
  {
   "cell_type": "code",
   "execution_count": 2,
   "metadata": {},
   "outputs": [],
   "source": [
    "jumlah_data = 100\n",
    "y = np.array([i*0.1 +np.random.randn() for i in range(jumlah_data)])\n",
    "x = np.array([i*0.1 for i in range(jumlah_data)])"
   ]
  },
  {
   "cell_type": "markdown",
   "metadata": {},
   "source": [
    "## 1. Plot Data"
   ]
  },
  {
   "cell_type": "markdown",
   "metadata": {},
   "source": [
    "## 2. Fungsi Linear"
   ]
  },
  {
   "cell_type": "code",
   "execution_count": 3,
   "metadata": {},
   "outputs": [],
   "source": [
    "def fungsi_linear(x,gradien):\n",
    "    y = gradien*x\n",
    "    return y"
   ]
  },
  {
   "cell_type": "markdown",
   "metadata": {},
   "source": [
    "Menghitung Persamaan Linear Awal"
   ]
  },
  {
   "cell_type": "code",
   "execution_count": 4,
   "metadata": {},
   "outputs": [],
   "source": [
    "x_prediksi = np.array([0,10])\n",
    "m_awal = 5\n",
    "y_prediksi = fungsi_linear(x_prediksi, m_awal)"
   ]
  },
  {
   "cell_type": "code",
   "execution_count": 5,
   "metadata": {},
   "outputs": [],
   "source": [
    "\n",
    "# plt.scatter(x,y)\n",
    "# plt.plot(x_prediksi, y_prediksi,'red')\n",
    "# plt.axis([0,10,0,10])\n",
    "# plt.show()"
   ]
  },
  {
   "cell_type": "markdown",
   "metadata": {},
   "source": [
    "Menghitung Prediksi"
   ]
  },
  {
   "cell_type": "code",
   "execution_count": 6,
   "metadata": {},
   "outputs": [],
   "source": [
    "m_prediksi = m_awal\n",
    "m_list_prediksi = []\n",
    "y_list_prediksi = []\n",
    "x_list_prediksi = []\n",
    "learning_rate = 0.1\n",
    "for i in range(1,jumlah_data):\n",
    "    y_prediksi = fungsi_linear(x[i],m_prediksi)\n",
    "    y_aktual = y[i]\n",
    "\n",
    "    error = y_aktual - y_prediksi\n",
    "    delta_m = learning_rate * error/x[i] \n",
    "    m_prediksi = m_prediksi+delta_m\n",
    "\n",
    "    m_list_prediksi.append(m_prediksi)\n",
    "    y_list_prediksi.append(fungsi_linear(np.array([0.10]),m_prediksi))\n",
    "    x_list_prediksi.append(np.array([0,10]))"
   ]
  },
  {
   "cell_type": "markdown",
   "metadata": {},
   "source": [
    "Visualisasi Prediksi"
   ]
  },
  {
   "cell_type": "code",
   "execution_count": 7,
   "metadata": {},
   "outputs": [
    {
     "data": {
      "application/vnd.jupyter.widget-view+json": {
       "model_id": "123d8e5e054648ec8a5647d5c657a3f2",
       "version_major": 2,
       "version_minor": 0
      },
      "image/png": "[encoded data removed]",
      "text/html": [
       "\n",
       "            <div style=\"display: inline-block;\">\n",
       "                <div class=\"jupyter-widgets widget-label\" style=\"text-align: center;\">\n",
       "                    Figure\n",
       "                </div>\n",
       "                <img src='data:image/png;base64,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' width=400.0/>\n",
       "            </div>\n",
       "        "
      ],
      "text/plain": [
       "Canvas(toolbar=Toolbar(toolitems=[('Home', 'Reset original view', 'home', 'home'), ('Back', 'Back to previous …"
      ]
     },
     "metadata": {},
     "output_type": "display_data"
    },
    {
     "name": "stderr",
     "output_type": "stream",
     "text": [
      "ERROR:tornado.application:Exception in callback <bound method TimerBase._on_timer of <matplotlib.backends.backend_webagg_core.TimerTornado object at 0x127b0d350>>\n",
      "Traceback (most recent call last):\n",
      "  File \"/Users/bayusetia/GitHub/Machine-Learning/Env/lib/python3.11/site-packages/tornado/ioloop.py\", line 919, in _run\n",
      "    val = self.callback()\n",
      "          ^^^^^^^^^^^^^^^\n",
      "  File \"/Users/bayusetia/GitHub/Machine-Learning/Env/lib/python3.11/site-packages/matplotlib/backend_bases.py\", line 1226, in _on_timer\n",
      "    ret = func(*args, **kwargs)\n",
      "          ^^^^^^^^^^^^^^^^^^^^^\n",
      "  File \"/Users/bayusetia/GitHub/Machine-Learning/Env/lib/python3.11/site-packages/matplotlib/animation.py\", line 1426, in _step\n",
      "    still_going = super()._step(*args)\n",
      "                  ^^^^^^^^^^^^^^^^^^^^\n",
      "  File \"/Users/bayusetia/GitHub/Machine-Learning/Env/lib/python3.11/site-packages/matplotlib/animation.py\", line 1119, in _step\n",
      "    self._draw_next_frame(framedata, self._blit)\n",
      "  File \"/Users/bayusetia/GitHub/Machine-Learning/Env/lib/python3.11/site-packages/matplotlib/animation.py\", line 1138, in _draw_next_frame\n",
      "    self._draw_frame(framedata)\n",
      "  File \"/Users/bayusetia/GitHub/Machine-Learning/Env/lib/python3.11/site-packages/matplotlib/animation.py\", line 1767, in _draw_frame\n",
      "    self._drawn_artists = self._func(framedata, *self._args)\n",
      "                          ^^^^^^^^^^^^^^^^^^^^^^^^^^^^^^^^^^\n",
      "  File \"/var/folders/pj/_qdvh6sd5s11kdpjsbv2nzmm0000gn/T/ipykernel_69419/2110603232.py\", line 4, in animate\n",
      "    x = x_list_prediksi[frame_num]\n",
      "        ~~~~~~~~~~~~~~~^^^^^^^^^^^\n",
      "IndexError: list index out of range\n"
     ]
    }
   ],
   "source": [
    "fig = plt.figure(figsize=(4,4))\n",
    "line, = plt.plot([],[], \"Red\")\n",
    "def animate(frame_num): \n",
    "    x = x_list_prediksi[frame_num]\n",
    "    y = y_list_prediksi[frame_num]\n",
    "    line.set_data((x,y))\n",
    "    return line\n",
    "\n",
    "plt.scatter(x,y)\n",
    "plt.axis([0,10,0,10])\n",
    "anime = FuncAnimation(fig,animate,frames=100,interval=100,repeat=False)\n",
    "plt.show()"
   ]
  }
 ],
 "metadata": {
  "kernelspec": {
   "display_name": "Env",
   "language": "python",
   "name": "python3"
  },
  "language_info": {
   "codemirror_mode": {
    "name": "ipython",
    "version": 3
   },
   "file_extension": ".py",
   "mimetype": "text/x-python",
   "name": "python",
   "nbconvert_exporter": "python",
   "pygments_lexer": "ipython3",
   "version": "3.11.4"
  },
  "orig_nbformat": 4
 },
 "nbformat": 4,
 "nbformat_minor": 2
}
